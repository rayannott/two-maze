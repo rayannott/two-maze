{
 "cells": [
  {
   "cell_type": "code",
   "execution_count": 1,
   "metadata": {},
   "outputs": [],
   "source": [
    "import matplotlib.pyplot as plt\n",
    "import numpy as np\n",
    "\n",
    "from mazes import MyMaze"
   ]
  },
  {
   "cell_type": "code",
   "execution_count": 2,
   "metadata": {},
   "outputs": [],
   "source": [
    "m0 = MyMaze(seed=12345, letters='abc', maze_index=0)\n",
    "m1 = MyMaze(seed=12345, letters='def', maze_index=1)\n",
    "m2 = MyMaze(seed=12345, letters='ghi', maze_index=2)"
   ]
  },
  {
   "cell_type": "code",
   "execution_count": 5,
   "metadata": {},
   "outputs": [
    {
     "name": "stdout",
     "output_type": "stream",
     "text": [
      "###############################\n",
      "#...#.#.#.......#.#.....#.#f!.#\n",
      "###.#.#.###.#.###.#.#####.#.###\n",
      "#.#...#.#.#.#.#.....#.#...#..*#\n",
      "#.#.###.#.###.###.###.###.#.###\n",
      "#.#.#.#...#.....#..!#.........#\n",
      "#.#.#.###.###.###.#####.#.#.#.#\n",
      "#.....#.#.#.#.#.#.#..*..#.#.#.#\n",
      "###.###.#.#.#.#.#.#.#.###.#####\n",
      "#...#d..#.#...#...#.#...#.#.#.#\n",
      "###.#.###.#.###.#####.####?.???\n",
      "#.#.....#.......#.#.........??#\n",
      "#.###.###.###.###.#.########??#\n",
      "#.....#.#.#.#.#.....#.#...????#\n",
      "###.#.#.?#?.?.###.#.#.#.###????\n",
      "#...#.....????....#...#....????\n",
      "##?.#??.#??.#.###.###.#.#####?#\n",
      "#.???...??????#.#.#e#.#...#.#.#\n",
      "??#.??##?##.??#.###.###.###.#.#\n",
      "#?????..???.??................#\n",
      "####?#?#?######################\n",
      "\n"
     ]
    }
   ],
   "source": [
    "print(m1)"
   ]
  },
  {
   "cell_type": "code",
   "execution_count": 4,
   "metadata": {},
   "outputs": [
    {
     "data": {
      "image/png": "[encoded data removed]",
      "text/plain": [
       "<Figure size 640x480 with 1 Axes>"
      ]
     },
     "metadata": {},
     "output_type": "display_data"
    }
   ],
   "source": [
    "m1.plot_mpl(fog=False)"
   ]
  },
  {
   "cell_type": "code",
   "execution_count": 15,
   "metadata": {},
   "outputs": [
    {
     "data": {
      "text/plain": [
       "[Tile(_type=<TT.WALL: 0>, has=None, color=<TC.BLANK: 0>, visible=True),\n",
       " Tile(_type=<TT.PASS: 1>, has=None, color=<TC.CYAN: 1>, visible=True),\n",
       " Tile(_type=<TT.WALL: 0>, has=None, color=<TC.BLANK: 0>, visible=True),\n",
       " Tile(_type=<TT.PASS: 1>, has=None, color=<TC.BLANK: 0>, visible=True),\n",
       " Tile(_type=<TT.WALL: 0>, has=None, color=<TC.BLANK: 0>, visible=True),\n",
       " Tile(_type=<TT.PASS: 1>, has=None, color=<TC.BLANK: 0>, visible=True),\n",
       " Tile(_type=<TT.WALL: 0>, has=None, color=<TC.BLANK: 0>, visible=True),\n",
       " Tile(_type=<TT.PASS: 1>, has=None, color=<TC.BLANK: 0>, visible=True),\n",
       " Tile(_type=<TT.PASS: 1>, has=None, color=<TC.BLANK: 0>, visible=True),\n",
       " Tile(_type=<TT.PASS: 1>, has=None, color=<TC.BLANK: 0>, visible=True),\n",
       " Tile(_type=<TT.WALL: 0>, has=None, color=<TC.BLANK: 0>, visible=True),\n",
       " Tile(_type=<TT.PASS: 1>, has=None, color=<TC.BLANK: 0>, visible=True),\n",
       " Tile(_type=<TT.PASS: 1>, has=None, color=<TC.BLANK: 0>, visible=True),\n",
       " Tile(_type=<TT.PASS: 1>, has=None, color=<TC.BLANK: 0>, visible=True),\n",
       " Tile(_type=<TT.PASS: 1>, has=None, color=<TC.BLANK: 0>, visible=True),\n",
       " Tile(_type=<TT.PASS: 1>, has=None, color=<TC.BLANK: 0>, visible=True),\n",
       " Tile(_type=<TT.WALL: 0>, has=None, color=<TC.BLANK: 0>, visible=True),\n",
       " Tile(_type=<TT.PASS: 1>, has=None, color=<TC.BLANK: 0>, visible=True),\n",
       " Tile(_type=<TT.PASS: 1>, has=None, color=<TC.BLANK: 0>, visible=True),\n",
       " Tile(_type=<TT.PASS: 1>, has=Pit(0), color=<TC.BLANK: 0>, visible=True),\n",
       " Tile(_type=<TT.WALL: 0>, has=None, color=<TC.BLANK: 0>, visible=True),\n",
       " Tile(_type=<TT.PASS: 1>, has=None, color=<TC.BLANK: 0>, visible=True),\n",
       " Tile(_type=<TT.PASS: 1>, has=None, color=<TC.BLANK: 0>, visible=True),\n",
       " Tile(_type=<TT.PASS: 1>, has=None, color=<TC.BLANK: 0>, visible=True),\n",
       " Tile(_type=<TT.PASS: 1>, has=None, color=<TC.MAGENTA: 2>, visible=True),\n",
       " Tile(_type=<TT.PASS: 1>, has=None, color=<TC.BLANK: 0>, visible=True),\n",
       " Tile(_type=<TT.PASS: 1>, has=None, color=<TC.BLANK: 0>, visible=True),\n",
       " Tile(_type=<TT.PASS: 1>, has=None, color=<TC.CYAN: 1>, visible=True),\n",
       " Tile(_type=<TT.PASS: 1>, has=None, color=<TC.YELLOW: 3>, visible=True),\n",
       " Tile(_type=<TT.PASS: 1>, has=None, color=<TC.BLANK: 0>, visible=True),\n",
       " Tile(_type=<TT.WALL: 0>, has=None, color=<TC.BLANK: 0>, visible=True)]"
      ]
     },
     "execution_count": 15,
     "metadata": {},
     "output_type": "execute_result"
    }
   ],
   "source": [
    "m1.maze[5]"
   ]
  },
  {
   "cell_type": "code",
   "execution_count": 1,
   "metadata": {},
   "outputs": [],
   "source": [
    "from utils.utils import get_english_words"
   ]
  },
  {
   "cell_type": "code",
   "execution_count": 2,
   "metadata": {},
   "outputs": [],
   "source": [
    "words = get_english_words()"
   ]
  },
  {
   "cell_type": "code",
   "execution_count": 9,
   "metadata": {},
   "outputs": [],
   "source": [
    "long_words = [w for w in words if len(w) > 6]"
   ]
  },
  {
   "cell_type": "code",
   "execution_count": 10,
   "metadata": {},
   "outputs": [
    {
     "data": {
      "text/plain": [
       "135"
      ]
     },
     "execution_count": 10,
     "metadata": {},
     "output_type": "execute_result"
    }
   ],
   "source": [
    "len(long_words)"
   ]
  }
 ],
 "metadata": {
  "kernelspec": {
   "display_name": "thevenv",
   "language": "python",
   "name": "python3"
  },
  "language_info": {
   "codemirror_mode": {
    "name": "ipython",
    "version": 3
   },
   "file_extension": ".py",
   "mimetype": "text/x-python",
   "name": "python",
   "nbconvert_exporter": "python",
   "pygments_lexer": "ipython3",
   "version": "3.11.2"
  },
  "orig_nbformat": 4
 },
 "nbformat": 4,
 "nbformat_minor": 2
}
