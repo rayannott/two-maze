{
 "cells": [
  {
   "cell_type": "code",
   "execution_count": 1,
   "metadata": {},
   "outputs": [],
   "source": [
    "import matplotlib.pyplot as plt\n",
    "import numpy as np\n",
    "\n",
    "from mazes import MyMaze"
   ]
  },
  {
   "cell_type": "code",
   "execution_count": 13,
   "metadata": {},
   "outputs": [],
   "source": [
    "m0 = MyMaze(seed=12345, letters='abc', maze_index=0)\n",
    "m1 = MyMaze(seed=12345, letters='def', maze_index=1)\n",
    "m2 = MyMaze(seed=12345, letters='ghi', maze_index=2)"
   ]
  },
  {
   "cell_type": "code",
   "execution_count": 3,
   "metadata": {},
   "outputs": [
    {
     "name": "stdout",
     "output_type": "stream",
     "text": [
      "###############################\n",
      "#...#.#.#.......#.#.....#.#f!.#\n",
      "###.#.#.###.#.###.#.#####.#.###\n",
      "#.#...#.#.#.#.#.....#.#...#..*#\n",
      "#.#.###.#.###.###.###.###.#.###\n",
      "#.#.#.#...#.....#..!#.........#\n",
      "#.#.#.###.###.###.#####.#.#.#.#\n",
      "#.....#.#.#.#.#.#.#..*..#.#.#.#\n",
      "###.###.#.#.#.#.#.#.#.###.#####\n",
      "#...#d..#.#...#...#.#...#.#.#.#\n",
      "###.#.###.#.###.#####.####?.???\n",
      "#.#.....#.......#.#.........??#\n",
      "#.###.###.###.###.#.########??#\n",
      "#.....#.#.#.#.#.....#.#...????#\n",
      "###.#.#.?#?.?.###.#.#.#.###????\n",
      "#...#.....????....#...#....????\n",
      "##?.#??.#??.#.###.###.#.#####?#\n",
      "#.???...??????#.#.#e#.#...#.#.#\n",
      "??#.??##?##.??#.###.###.###.#.#\n",
      "#?????..???.??................#\n",
      "####?#?#?######################\n",
      "\n"
     ]
    }
   ],
   "source": [
    "print(m1)"
   ]
  },
  {
   "cell_type": "code",
   "execution_count": 4,
   "metadata": {},
   "outputs": [],
   "source": [
    "path = m0.bfs((13, 3))\n",
    "print(path)"
   ]
  },
  {
   "cell_type": "code",
   "execution_count": 8,
   "metadata": {},
   "outputs": [
    {
     "data": {
      "text/plain": [
       "{(2, 9, 26): 7417, (2, 3, 27): 5340, (2, 5, 29): 4668, (2, 2, 7): 3620}"
      ]
     },
     "execution_count": 8,
     "metadata": {},
     "output_type": "execute_result"
    }
   ],
   "source": [
    "m2.checkpoint_codes"
   ]
  },
  {
   "cell_type": "code",
   "execution_count": 15,
   "metadata": {},
   "outputs": [
    {
     "data": {
      "image/png": "[encoded data removed]",
      "text/plain": [
       "<Figure size 640x480 with 1 Axes>"
      ]
     },
     "metadata": {},
     "output_type": "display_data"
    }
   ],
   "source": [
    "m0.plot_mpl(fog=False)"
   ]
  },
  {
   "cell_type": "code",
   "execution_count": 1,
   "metadata": {},
   "outputs": [],
   "source": [
    "from utils.utils import get_english_words"
   ]
  },
  {
   "cell_type": "code",
   "execution_count": 2,
   "metadata": {},
   "outputs": [],
   "source": [
    "words = get_english_words()"
   ]
  },
  {
   "cell_type": "code",
   "execution_count": 9,
   "metadata": {},
   "outputs": [],
   "source": [
    "long_words = [w for w in words if len(w) > 6]"
   ]
  },
  {
   "cell_type": "code",
   "execution_count": 10,
   "metadata": {},
   "outputs": [
    {
     "data": {
      "text/plain": [
       "135"
      ]
     },
     "execution_count": 10,
     "metadata": {},
     "output_type": "execute_result"
    }
   ],
   "source": [
    "len(long_words)"
   ]
  },
  {
   "cell_type": "code",
   "execution_count": 2,
   "metadata": {},
   "outputs": [],
   "source": [
    "import numpy as np\n",
    "\n",
    "COLORS = [\n",
    "    np.array([1., 1., 1.]),\n",
    "    np.array([0.19140625, 0.8046875 , 0.74609375]),\n",
    "    np.array([0.78125   , 0.16796875, 0.828125  ]),\n",
    "    np.array([0.8046875 , 0.875     , 0.12109375])\n",
    "]"
   ]
  },
  {
   "cell_type": "code",
   "execution_count": 5,
   "metadata": {},
   "outputs": [
    {
     "name": "stdout",
     "output_type": "stream",
     "text": [
      "[256 256 256]\n",
      "[ 49 206 191]\n",
      "[200  43 212]\n",
      "[206 224  31]\n"
     ]
    }
   ],
   "source": [
    "for c in COLORS:\n",
    "    print(np.int16(c * 256))"
   ]
  }
 ],
 "metadata": {
  "kernelspec": {
   "display_name": "thevenv",
   "language": "python",
   "name": "python3"
  },
  "language_info": {
   "codemirror_mode": {
    "name": "ipython",
    "version": 3
   },
   "file_extension": ".py",
   "mimetype": "text/x-python",
   "name": "python",
   "nbconvert_exporter": "python",
   "pygments_lexer": "ipython3",
   "version": "3.11.2"
  },
  "orig_nbformat": 4
 },
 "nbformat": 4,
 "nbformat_minor": 2
}
